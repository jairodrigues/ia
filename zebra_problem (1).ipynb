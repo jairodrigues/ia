{
  "nbformat": 4,
  "nbformat_minor": 0,
  "metadata": {
    "colab": {
      "name": "zebra_problem.ipynb",
      "provenance": []
    },
    "kernelspec": {
      "name": "python3",
      "display_name": "Python 3"
    }
  },
  "cells": [
    {
      "cell_type": "markdown",
      "metadata": {
        "id": "6k6FM_2kUOI2"
      },
      "source": [
        "# Projeto: Resolvendo o quebra-cabeça da Zebra com a restrição Python\r\n"
      ]
    },
    {
      "cell_type": "markdown",
      "metadata": {
        "id": "Wh8hNwebVFz3"
      },
      "source": [
        "Também conhecido por outros nomes como Quebra-cabeça de Einstein, o Quebra-cabeça da Zebra é um quebra-cabeça lógico que fornece um conjunto de pistas e pede que você deduza quem é o dono da zebra.\r\n",
        "\r\n",
        "Aqui está o quebra-cabeça original da Life International em 1962:"
      ]
    },
    {
      "cell_type": "markdown",
      "metadata": {
        "id": "DbJyfdSkUNsz"
      },
      "source": [
        "\r\n",
        "\r\n",
        "```\r\n",
        "1. There are five houses.\r\n",
        "2. The Englishman lives in the red house.\r\n",
        "3. The Spaniard owns the dog.\r\n",
        "4. Coffee is drunk in the green house.\r\n",
        "5. The Ukrainian drinks tea.\r\n",
        "6. The green house is immediately to the right of the ivory house.\r\n",
        "7. The Old Gold smoker owns snails.\r\n",
        "8. Kools are smoked in the yellow house.\r\n",
        "9. Milk is drunk in the middle house.\r\n",
        "10. The Norwegian lives in the first house.\r\n",
        "11. The man who smokes Chesterfields lives in the house next to the man with the fox.\r\n",
        "12. Kools are smoked in the house next to the house where the horse is kept.\r\n",
        "13. The Lucky Strike smoker drinks orange juice.\r\n",
        "14. The Japanese smokes Parliaments.\r\n",
        "15. The Norwegian lives next to the blue house.\r\n",
        "```\r\n"
      ]
    },
    {
      "cell_type": "markdown",
      "metadata": {
        "id": "I_isLOVbVkWB"
      },
      "source": [
        "Para resolver esse problema, foi utilizado uma biblioteca Python chamada de python-constraint que é perfeita para esse tipo de problema. Basicamente, você gera uma grande biblioteca de possibilidades e adiciona restrições para reduzir o tamanho do problema.\r\n",
        "\r\n",
        "Depois de seguir o tutorial, foi bastante fácil endender o código gerado para resolver o Zebra Puzzle:\r\n",
        "\r\n",
        "[Website do jogo online](https://https://www.brainzilla.com/logic/zebra/einsteins-riddle/)\r\n",
        "\r\n",
        "[tutorial](https://medium.com/brainzilla/)\r\n",
        "\r\n",
        "[solução proposta](einsteins-riddle-step-by-step-tutorial-on-how-to-solve-the-world-s-hardest-puzzle-46bcf054a7c7)"
      ]
    },
    {
      "cell_type": "code",
      "metadata": {
        "colab": {
          "base_uri": "https://localhost:8080/"
        },
        "id": "W-HSdet3Up-A",
        "outputId": "5444d7c8-48bd-4182-9270-a7a2838a7750"
      },
      "source": [
        "pip install python-constraint"
      ],
      "execution_count": 3,
      "outputs": [
        {
          "output_type": "stream",
          "text": [
            "Collecting python-constraint\n",
            "  Downloading https://files.pythonhosted.org/packages/37/8b/5f1bc2734ca611943e1d6733ee244238679f6410a10cd45ede55a61a8402/python-constraint-1.4.0.tar.bz2\n",
            "Building wheels for collected packages: python-constraint\n",
            "  Building wheel for python-constraint (setup.py) ... \u001b[?25l\u001b[?25hdone\n",
            "  Created wheel for python-constraint: filename=python_constraint-1.4.0-py2.py3-none-any.whl size=24079 sha256=3e1517afbcc81ac108ffb6801986c16ff3ed5892e0df011c1db6d958f35b460a\n",
            "  Stored in directory: /root/.cache/pip/wheels/34/31/15/7b070b25d0a549d20ce2e9fe6d727471c2c61ef904720fd40c\n",
            "Successfully built python-constraint\n",
            "Installing collected packages: python-constraint\n",
            "Successfully installed python-constraint-1.4.0\n"
          ],
          "name": "stdout"
        }
      ]
    },
    {
      "cell_type": "code",
      "metadata": {
        "colab": {
          "base_uri": "https://localhost:8080/"
        },
        "id": "9mhJE65VUlnu",
        "outputId": "0e700339-5d58-476c-eadf-92b01977e4c2"
      },
      "source": [
        "# Houses\r\n",
        "# 1 2 3 4 5\r\n",
        "\r\n",
        "from constraint import *\r\n",
        "\r\n",
        "problem = Problem()\r\n",
        "\r\n",
        "nationality = [\"English\", \"Spanish\", \"Ukrainian\", \"Norwegian\", \"Japanese\"]\r\n",
        "pet = [\"dog\", \"snails\", \"fox\", \"horse\", \"zebra\"]\r\n",
        "cigarette = [\"Old Gold\", \"Kools\", \r\n",
        "\"Chesterfields\", \"Lucky Strike\", \"Parliaments\"]\r\n",
        "colour = [\"red\", \"green\", \"yellow\", \"blue\", \"ivory\"]\r\n",
        "beverage = [\"coffee\", \"milk\", \"orange juice\", \"water\", \"tea\"]\r\n",
        "\r\n",
        "criteria = nationality + pet + cigarette + colour + beverage\r\n",
        "problem.addVariables(criteria,[1,2,3,4,5])\r\n",
        "\r\n",
        "problem.addConstraint(AllDifferentConstraint(), nationality)\r\n",
        "problem.addConstraint(AllDifferentConstraint(), pet)\r\n",
        "problem.addConstraint(AllDifferentConstraint(), cigarette)\r\n",
        "problem.addConstraint(AllDifferentConstraint(), colour)\r\n",
        "problem.addConstraint(AllDifferentConstraint(), beverage)\r\n",
        "\r\n",
        "problem.addConstraint(lambda e, r: e == r, [\"English\",\"red\"])\r\n",
        "problem.addConstraint(lambda s, d: s == d, [\"Spanish\",\"dog\"])\r\n",
        "problem.addConstraint(lambda c, g: c == g, [\"coffee\",\"green\"])\r\n",
        "problem.addConstraint(lambda u, t: u == t, [\"Ukrainian\",\"tea\"])\r\n",
        "problem.addConstraint(lambda g, i: g-i == 1, [\"green\",\"ivory\"])\r\n",
        "problem.addConstraint(lambda o, s: o == s, [\"Old Gold\",\"snails\"])\r\n",
        "problem.addConstraint(lambda k, y: k == y, [\"Kools\",\"yellow\"])\r\n",
        "problem.addConstraint(InSetConstraint([3]), [\"milk\"])\r\n",
        "problem.addConstraint(InSetConstraint([1]), [\"Norwegian\"])\r\n",
        "problem.addConstraint(lambda c, f: abs(c-f) == 1, [\"Chesterfields\",\"fox\"])\r\n",
        "problem.addConstraint(lambda k, h: abs(k-h) == 1, [\"Kools\",\"horse\"])\r\n",
        "problem.addConstraint(lambda l, o: l == o, [\"Lucky Strike\",\"orange juice\"])\r\n",
        "problem.addConstraint(lambda j, p: j == p, [\"Japanese\",\"Parliaments\"])\r\n",
        "problem.addConstraint(lambda k, h: abs(k-h) == 1, [\"Norwegian\",\"blue\"])\r\n",
        "\r\n",
        "solution = problem.getSolutions()[0]\r\n",
        "\r\n",
        "for i in range(1,6):\r\n",
        "    for x in solution:\r\n",
        "        if solution[x] == i:\r\n",
        "            print(str(i), x)"
      ],
      "execution_count": 6,
      "outputs": [
        {
          "output_type": "stream",
          "text": [
            "1 Kools\n",
            "1 Norwegian\n",
            "1 yellow\n",
            "1 fox\n",
            "1 water\n",
            "2 blue\n",
            "2 horse\n",
            "2 Ukrainian\n",
            "2 tea\n",
            "2 Chesterfields\n",
            "3 red\n",
            "3 English\n",
            "3 Old Gold\n",
            "3 snails\n",
            "3 milk\n",
            "4 ivory\n",
            "4 Spanish\n",
            "4 dog\n",
            "4 Lucky Strike\n",
            "4 orange juice\n",
            "5 green\n",
            "5 coffee\n",
            "5 Japanese\n",
            "5 Parliaments\n",
            "5 zebra\n"
          ],
          "name": "stdout"
        }
      ]
    }
  ]
}