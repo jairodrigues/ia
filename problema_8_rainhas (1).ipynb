{
  "nbformat": 4,
  "nbformat_minor": 0,
  "metadata": {
    "colab": {
      "name": "problema_8_rainhas.ipynb",
      "provenance": []
    },
    "kernelspec": {
      "name": "python3",
      "display_name": "Python 3"
    }
  },
  "cells": [
    {
      "cell_type": "markdown",
      "metadata": {
        "id": "A0KmktPdrBIh"
      },
      "source": [
        "## Ténicas para o Problema 8 Rainhas\r\n"
      ]
    },
    {
      "cell_type": "markdown",
      "metadata": {
        "id": "EzgPyihlHGrl"
      },
      "source": [
        "![nrainha01.gif](data:image/gif;base64,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)"
      ]
    },
    {
      "cell_type": "markdown",
      "metadata": {
        "id": "Ambfn_1FGcJ_"
      },
      "source": [
        "## Busca por força bruta"
      ]
    },
    {
      "cell_type": "markdown",
      "metadata": {
        "id": "2HHK96dvHZOe"
      },
      "source": [
        "Chamada recursiva de função para resolver o problema das N-Rainhas.\r\n",
        "\r\n",
        "No exemplo, a variável N é 8, que é a dimensão tradicional do tabuleiro de xadrez (8×8). Nesse caso existem 92 soluções, porém o número de soluções únicas são 12, as restantes são obtidas por rotação ou espelhamento. \r\n",
        "\r\n",
        "Esse programa não trata de soluções únicas, mas quem quiser pode aprimorar o código.\r\n",
        "\r\n",
        "Outras dimensões podem ser tentadas: o caso mínimo onde existem soluções é num tabuleiro (4×4) com 2 soluções, para um (12×12) ocorrem 14.200 soluções e o tempo de processamento também aumenta bastante.\r\n",
        "\r\n",
        "As listas linha, diagAsc (diagonal ascendente) e diagDesc (diagonal descedente) marcam as posições atacadas pelas rainhas posicionadas e servem para encontrar uma nova posição na coluna para a próxima rainha a ser colocada no tabuleiro.\r\n",
        "\r\n",
        "As linhas e colunas são numeradas de 0 a (N – 1); no caso de um tabuleiro 8×8, de 0 até 7.\r\n",
        "\r\n",
        "No caso tradicional (8×8), uma das 92 soluções é dada por: [5, 3, 6, 0, 7, 1, 4, 2], o que significa que uma rainha estará na linha 5 da coluna 0, outra na linha 3 da coluna 1, e assim por diante."
      ]
    },
    {
      "cell_type": "code",
      "metadata": {
        "id": "ERADqi-sOpfs"
      },
      "source": [
        " \r\n",
        "N = 8 # dimensao do tabuleiro\r\n",
        "linha = [False] * N\r\n",
        "diagonal_asc = [False] * (2 * N - 1)\r\n",
        "diagonal_desc = [False] * (2 * N - 1)\r\n",
        "numero_de_solucoes = 0\r\n",
        "solucao = [0] * N"
      ],
      "execution_count": 13,
      "outputs": []
    },
    {
      "cell_type": "code",
      "metadata": {
        "id": "VzeXWb4OG3WF"
      },
      "source": [
        "def rainha(col):\r\n",
        "    if col < N:\r\n",
        "        for lin in range(N):\r\n",
        "            if linha[lin] or diagonal_asc[lin+col] or diagonal_desc[lin-col+N-1]:\r\n",
        "                continue\r\n",
        "            solucao[col] = lin\r\n",
        "            linha[lin] = diagonal_asc[lin+col] = diagonal_desc[lin-col+N-1] = True\r\n",
        "            rainha(col+1)\r\n",
        "            linha[lin] = diagonal_asc[lin+col] = diagonal_desc[lin-col+N-1] = False\r\n",
        "    else:\r\n",
        "        print(solucao)\r\n",
        "        global numero_de_solucoes\r\n",
        "        numero_de_solucoes = numero_de_solucoes + 1\r\n",
        " \r\n"
      ],
      "execution_count": 14,
      "outputs": []
    },
    {
      "cell_type": "code",
      "metadata": {
        "colab": {
          "base_uri": "https://localhost:8080/"
        },
        "id": "y1VlogY6PI7j",
        "outputId": "ddf87e3a-5892-4d5a-cc96-2b4103f7a78d"
      },
      "source": [
        "rainha(0)\r\n",
        "print(\"Num.Solucoes= \", numSol)"
      ],
      "execution_count": 15,
      "outputs": [
        {
          "output_type": "stream",
          "text": [
            "[0, 4, 7, 5, 2, 6, 1, 3]\n",
            "[0, 5, 7, 2, 6, 3, 1, 4]\n",
            "[0, 6, 3, 5, 7, 1, 4, 2]\n",
            "[0, 6, 4, 7, 1, 3, 5, 2]\n",
            "[1, 3, 5, 7, 2, 0, 6, 4]\n",
            "[1, 4, 6, 0, 2, 7, 5, 3]\n",
            "[1, 4, 6, 3, 0, 7, 5, 2]\n",
            "[1, 5, 0, 6, 3, 7, 2, 4]\n",
            "[1, 5, 7, 2, 0, 3, 6, 4]\n",
            "[1, 6, 2, 5, 7, 4, 0, 3]\n",
            "[1, 6, 4, 7, 0, 3, 5, 2]\n",
            "[1, 7, 5, 0, 2, 4, 6, 3]\n",
            "[2, 0, 6, 4, 7, 1, 3, 5]\n",
            "[2, 4, 1, 7, 0, 6, 3, 5]\n",
            "[2, 4, 1, 7, 5, 3, 6, 0]\n",
            "[2, 4, 6, 0, 3, 1, 7, 5]\n",
            "[2, 4, 7, 3, 0, 6, 1, 5]\n",
            "[2, 5, 1, 4, 7, 0, 6, 3]\n",
            "[2, 5, 1, 6, 0, 3, 7, 4]\n",
            "[2, 5, 1, 6, 4, 0, 7, 3]\n",
            "[2, 5, 3, 0, 7, 4, 6, 1]\n",
            "[2, 5, 3, 1, 7, 4, 6, 0]\n",
            "[2, 5, 7, 0, 3, 6, 4, 1]\n",
            "[2, 5, 7, 0, 4, 6, 1, 3]\n",
            "[2, 5, 7, 1, 3, 0, 6, 4]\n",
            "[2, 6, 1, 7, 4, 0, 3, 5]\n",
            "[2, 6, 1, 7, 5, 3, 0, 4]\n",
            "[2, 7, 3, 6, 0, 5, 1, 4]\n",
            "[3, 0, 4, 7, 1, 6, 2, 5]\n",
            "[3, 0, 4, 7, 5, 2, 6, 1]\n",
            "[3, 1, 4, 7, 5, 0, 2, 6]\n",
            "[3, 1, 6, 2, 5, 7, 0, 4]\n",
            "[3, 1, 6, 2, 5, 7, 4, 0]\n",
            "[3, 1, 6, 4, 0, 7, 5, 2]\n",
            "[3, 1, 7, 4, 6, 0, 2, 5]\n",
            "[3, 1, 7, 5, 0, 2, 4, 6]\n",
            "[3, 5, 0, 4, 1, 7, 2, 6]\n",
            "[3, 5, 7, 1, 6, 0, 2, 4]\n",
            "[3, 5, 7, 2, 0, 6, 4, 1]\n",
            "[3, 6, 0, 7, 4, 1, 5, 2]\n",
            "[3, 6, 2, 7, 1, 4, 0, 5]\n",
            "[3, 6, 4, 1, 5, 0, 2, 7]\n",
            "[3, 6, 4, 2, 0, 5, 7, 1]\n",
            "[3, 7, 0, 2, 5, 1, 6, 4]\n",
            "[3, 7, 0, 4, 6, 1, 5, 2]\n",
            "[3, 7, 4, 2, 0, 6, 1, 5]\n",
            "[4, 0, 3, 5, 7, 1, 6, 2]\n",
            "[4, 0, 7, 3, 1, 6, 2, 5]\n",
            "[4, 0, 7, 5, 2, 6, 1, 3]\n",
            "[4, 1, 3, 5, 7, 2, 0, 6]\n",
            "[4, 1, 3, 6, 2, 7, 5, 0]\n",
            "[4, 1, 5, 0, 6, 3, 7, 2]\n",
            "[4, 1, 7, 0, 3, 6, 2, 5]\n",
            "[4, 2, 0, 5, 7, 1, 3, 6]\n",
            "[4, 2, 0, 6, 1, 7, 5, 3]\n",
            "[4, 2, 7, 3, 6, 0, 5, 1]\n",
            "[4, 6, 0, 2, 7, 5, 3, 1]\n",
            "[4, 6, 0, 3, 1, 7, 5, 2]\n",
            "[4, 6, 1, 3, 7, 0, 2, 5]\n",
            "[4, 6, 1, 5, 2, 0, 3, 7]\n",
            "[4, 6, 1, 5, 2, 0, 7, 3]\n",
            "[4, 6, 3, 0, 2, 7, 5, 1]\n",
            "[4, 7, 3, 0, 2, 5, 1, 6]\n",
            "[4, 7, 3, 0, 6, 1, 5, 2]\n",
            "[5, 0, 4, 1, 7, 2, 6, 3]\n",
            "[5, 1, 6, 0, 2, 4, 7, 3]\n",
            "[5, 1, 6, 0, 3, 7, 4, 2]\n",
            "[5, 2, 0, 6, 4, 7, 1, 3]\n",
            "[5, 2, 0, 7, 3, 1, 6, 4]\n",
            "[5, 2, 0, 7, 4, 1, 3, 6]\n",
            "[5, 2, 4, 6, 0, 3, 1, 7]\n",
            "[5, 2, 4, 7, 0, 3, 1, 6]\n",
            "[5, 2, 6, 1, 3, 7, 0, 4]\n",
            "[5, 2, 6, 1, 7, 4, 0, 3]\n",
            "[5, 2, 6, 3, 0, 7, 1, 4]\n",
            "[5, 3, 0, 4, 7, 1, 6, 2]\n",
            "[5, 3, 1, 7, 4, 6, 0, 2]\n",
            "[5, 3, 6, 0, 2, 4, 1, 7]\n",
            "[5, 3, 6, 0, 7, 1, 4, 2]\n",
            "[5, 7, 1, 3, 0, 6, 4, 2]\n",
            "[6, 0, 2, 7, 5, 3, 1, 4]\n",
            "[6, 1, 3, 0, 7, 4, 2, 5]\n",
            "[6, 1, 5, 2, 0, 3, 7, 4]\n",
            "[6, 2, 0, 5, 7, 4, 1, 3]\n",
            "[6, 2, 7, 1, 4, 0, 5, 3]\n",
            "[6, 3, 1, 4, 7, 0, 2, 5]\n",
            "[6, 3, 1, 7, 5, 0, 2, 4]\n",
            "[6, 4, 2, 0, 5, 7, 1, 3]\n",
            "[7, 1, 3, 0, 6, 4, 2, 5]\n",
            "[7, 1, 4, 2, 0, 6, 3, 5]\n",
            "[7, 2, 0, 5, 1, 4, 6, 3]\n",
            "[7, 3, 0, 2, 5, 1, 6, 4]\n",
            "Num.Solucoes=  4318\n"
          ],
          "name": "stdout"
        }
      ]
    }
  ]
}